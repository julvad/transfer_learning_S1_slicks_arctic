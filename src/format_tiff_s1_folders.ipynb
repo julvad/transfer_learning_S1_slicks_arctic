{
 "cells": [
  {
   "cell_type": "markdown",
   "metadata": {},
   "source": [
    "# imports"
   ]
  },
  {
   "cell_type": "code",
   "execution_count": 1,
   "metadata": {},
   "outputs": [],
   "source": [
    "import os\n",
    "import shutil\n",
    "import re\n",
    "import numpy as np\n",
    "import pandas as pd\n",
    "import random"
   ]
  },
  {
   "cell_type": "code",
   "execution_count": 2,
   "metadata": {},
   "outputs": [
    {
     "data": {
      "text/plain": [
       "'c:\\\\Users\\\\juvad3723\\\\.1\\\\--Projects\\\\GitHub\\\\transfer_learning_S1_slicks_arctic'"
      ]
     },
     "execution_count": 2,
     "metadata": {},
     "output_type": "execute_result"
    }
   ],
   "source": [
    "# define user folder\n",
    "# user_folder = <path to user folder>\n",
    "\n",
    "# This should print the project repository folder\n",
    "os.chdir(os.path.dirname(os.getcwd()))\n",
    "os.getcwd()"
   ]
  },
  {
   "cell_type": "code",
   "execution_count": null,
   "metadata": {},
   "outputs": [],
   "source": [
    "# select month\n",
    "month = 12"
   ]
  },
  {
   "cell_type": "markdown",
   "metadata": {},
   "source": [
    "Move tiff files out of their folders"
   ]
  },
  {
   "cell_type": "code",
   "execution_count": 3,
   "metadata": {},
   "outputs": [
    {
     "ename": "FileNotFoundError",
     "evalue": "[WinError 3] The system cannot find the path specified: 'data/s1'",
     "output_type": "error",
     "traceback": [
      "\u001b[1;31m---------------------------------------------------------------------------\u001b[0m",
      "\u001b[1;31mFileNotFoundError\u001b[0m                         Traceback (most recent call last)",
      "Cell \u001b[1;32mIn[3], line 29\u001b[0m\n\u001b[0;32m     26\u001b[0m                         \u001b[38;5;28;01mbreak\u001b[39;00m\n\u001b[0;32m     28\u001b[0m main_folder \u001b[38;5;241m=\u001b[39m \u001b[38;5;124m'\u001b[39m\u001b[38;5;124mdata/s1\u001b[39m\u001b[38;5;124m'\u001b[39m  \u001b[38;5;66;03m# Update with your main folder path\u001b[39;00m\n\u001b[1;32m---> 29\u001b[0m \u001b[43mmove_tiff_files\u001b[49m\u001b[43m(\u001b[49m\u001b[43mmain_folder\u001b[49m\u001b[43m)\u001b[49m\n",
      "Cell \u001b[1;32mIn[3], line 6\u001b[0m, in \u001b[0;36mmove_tiff_files\u001b[1;34m(main_folder)\u001b[0m\n\u001b[0;32m      4\u001b[0m \u001b[38;5;28;01mdef\u001b[39;00m\u001b[38;5;250m \u001b[39m\u001b[38;5;21mmove_tiff_files\u001b[39m(main_folder):\n\u001b[0;32m      5\u001b[0m     \u001b[38;5;66;03m# Loop through all subfolders in the main folder\u001b[39;00m\n\u001b[1;32m----> 6\u001b[0m     \u001b[38;5;28;01mfor\u001b[39;00m subfolder \u001b[38;5;129;01min\u001b[39;00m \u001b[43mos\u001b[49m\u001b[38;5;241;43m.\u001b[39;49m\u001b[43mlistdir\u001b[49m\u001b[43m(\u001b[49m\u001b[43mmain_folder\u001b[49m\u001b[43m)\u001b[49m:\n\u001b[0;32m      7\u001b[0m         subfolder_path \u001b[38;5;241m=\u001b[39m os\u001b[38;5;241m.\u001b[39mpath\u001b[38;5;241m.\u001b[39mjoin(main_folder, subfolder)\n\u001b[0;32m      9\u001b[0m         \u001b[38;5;66;03m# Check if it's a folder\u001b[39;00m\n",
      "\u001b[1;31mFileNotFoundError\u001b[0m: [WinError 3] The system cannot find the path specified: 'data/s1'"
     ]
    }
   ],
   "source": [
    "import os\n",
    "import shutil\n",
    "\n",
    "def move_tiff_files(main_folder):\n",
    "    # Loop through all subfolders in the main folder\n",
    "    for subfolder in os.listdir(main_folder):\n",
    "        subfolder_path = os.path.join(main_folder, subfolder)\n",
    "\n",
    "        # Check if it's a folder\n",
    "        if os.path.isdir(subfolder_path):\n",
    "            measurement_folder = os.path.join(subfolder_path, 'measurement')\n",
    "\n",
    "            # Check if 'measurement' folder exists\n",
    "            if os.path.isdir(measurement_folder):\n",
    "                # Find the .tiff file in the 'measurement' folder\n",
    "                for file in os.listdir(measurement_folder):\n",
    "                    if file.endswith('.tiff'):\n",
    "                        tiff_file_path = os.path.join(measurement_folder, file)\n",
    "                        \n",
    "                        # Move the .tiff file to the main folder\n",
    "                        shutil.move(tiff_file_path, os.path.join(main_folder, file))\n",
    "                        \n",
    "                        # After moving, remove the 'measurement' folder if it's empty\n",
    "                        if not os.listdir(measurement_folder):\n",
    "                            os.rmdir(measurement_folder)\n",
    "                        break\n",
    "\n",
    "main_folder = 'data/s1'  # Update with your main folder path\n",
    "move_tiff_files(main_folder)\n"
   ]
  },
  {
   "cell_type": "markdown",
   "metadata": {},
   "source": [
    "Rename them to only keep YY_MM_DD_hhmmss"
   ]
  },
  {
   "cell_type": "code",
   "execution_count": null,
   "metadata": {},
   "outputs": [],
   "source": [
    "__name__"
   ]
  },
  {
   "cell_type": "code",
   "execution_count": null,
   "metadata": {},
   "outputs": [],
   "source": [
    "import re\n",
    "\n",
    "def rename_tiff_files(main_folder):\n",
    "    # Loop through all files in the main folder\n",
    "    for filename in os.listdir(main_folder):\n",
    "        file_path = os.path.join(main_folder, filename)\n",
    "\n",
    "        # Check if the file is a .tiff file\n",
    "        if filename.endswith('.tiff'):\n",
    "            # Use regular expression to extract the date and time (the relevant part of the filename)\n",
    "            match = re.search(r'(\\d{8})t(\\d{6})', filename)\n",
    "            if match:\n",
    "                date = match.group(1)  # Date part (YYYYMMDD)\n",
    "                time = match.group(2)  # Time part (HHMMSS)\n",
    "\n",
    "                # Convert date and time to the desired format (YYYY_MM_DD_HHMMSS)\n",
    "                new_filename = f\"{date[:4]}_{date[4:6]}_{date[6:8]}_{time}\"\n",
    "\n",
    "                # Create the new file path with the new filename\n",
    "                new_file_path = os.path.join(main_folder, f\"{new_filename}.tiff\")\n",
    "\n",
    "                # Rename the file\n",
    "                os.rename(file_path, new_file_path)\n",
    "                print(f\"Renamed '{filename}' to '{new_filename}.tiff'\")\n",
    "\n",
    "if __name__ == \"__main__\":\n",
    "    main_folder = rf\"c:\\Users\\{user_folder}\\--Data\\s1\\north_sea\\2019\\{month}\"   # Update with your main folder path\n",
    "    rename_tiff_files(main_folder)\n"
   ]
  },
  {
   "cell_type": "code",
   "execution_count": null,
   "metadata": {},
   "outputs": [],
   "source": [
    "# Function to delete all empty folders in a folder(folder1)\n",
    "def delete_empty_folders(folder1):\n",
    "    # Iterate through the folder structure\n",
    "    for root, dirs, files in os.walk(folder1, topdown=False):\n",
    "        for dir_name in dirs:\n",
    "            dir_path = os.path.join(root, dir_name)\n",
    "            # Check if the folder is empty\n",
    "            if not os.listdir(dir_path):\n",
    "                print(f\"Deleting empty folder: {dir_path}\")\n",
    "                os.rmdir(dir_path)  # Delete it\n",
    "\n",
    "# Run the script\n",
    "delete_empty_folders(main_folder)\n"
   ]
  },
  {
   "cell_type": "markdown",
   "metadata": {},
   "source": [
    "# Unzip folders script"
   ]
  },
  {
   "cell_type": "code",
   "execution_count": null,
   "metadata": {},
   "outputs": [],
   "source": [
    "root_folder = rf\"C:\\Users\\{user_folder}\\.1\\--Data\\s1\\pkf_new\""
   ]
  },
  {
   "cell_type": "code",
   "execution_count": null,
   "metadata": {},
   "outputs": [],
   "source": [
    "for folder_name in os.listdir(root_folder):\n",
    "    print(folder_name)"
   ]
  },
  {
   "cell_type": "code",
   "execution_count": null,
   "metadata": {},
   "outputs": [],
   "source": [
    "import zipfile\n",
    "import os\n",
    "\n",
    "def unzip_files_in_root(root_folder):\n",
    "    # Iterate through all the files in the root folder\n",
    "    for filename in os.listdir(root_folder):\n",
    "        file_path = os.path.join(root_folder, filename)\n",
    "        \n",
    "        # Check if it's a zip file\n",
    "        if filename.endswith('.zip') and os.path.isfile(file_path):\n",
    "            with zipfile.ZipFile(file_path, 'r') as zip_ref:\n",
    "                # Extract the zip file in the same folder as the .zip file\n",
    "                zip_ref.extractall(root_folder)\n",
    "                print(f\"Extracted {filename} in {root_folder}\")\n",
    "\n",
    "unzip_files_in_root(root_folder)"
   ]
  },
  {
   "cell_type": "markdown",
   "metadata": {},
   "source": [
    "# Move hh or vv tiff out of folder"
   ]
  },
  {
   "cell_type": "code",
   "execution_count": null,
   "metadata": {},
   "outputs": [],
   "source": [
    "import os\n",
    "import shutil\n",
    "\n",
    "def move_tiff_files(main_folder):\n",
    "    # Loop through all subfolders in the main folder\n",
    "    for subfolder in os.listdir(main_folder):\n",
    "        subfolder_path = os.path.join(main_folder, subfolder)\n",
    "\n",
    "        # Check if it's a folder\n",
    "        if os.path.isdir(subfolder_path):\n",
    "            measurement_folder = os.path.join(subfolder_path, 'measurement')\n",
    "\n",
    "            # Check if 'measurement' folder exists\n",
    "            if os.path.isdir(measurement_folder):\n",
    "                # Find the .tiff file in the 'measurement' folder\n",
    "                for file in os.listdir(measurement_folder):\n",
    "                    if file.endswith('.tiff') and '-hh-'in file:\n",
    "                        tiff_file_path = os.path.join(measurement_folder, file)\n",
    "                        \n",
    "                        # Move the .tiff file to the main folder\n",
    "                        shutil.move(tiff_file_path, os.path.join(main_folder, file))\n",
    "                        \n",
    "                        # After moving, remove the 'measurement' folder if it's empty\n",
    "                        if not os.listdir(measurement_folder):\n",
    "                            os.rmdir(measurement_folder)\n",
    "                        break\n",
    "\n",
    "if __name__ == \"__main__\":\n",
    "    main_folder = r\"C:\\Users\\{user_folder}\\.1\\--Data\\s1\\pkf_new\"\n",
    "    move_tiff_files(root_folder)\n"
   ]
  },
  {
   "cell_type": "markdown",
   "metadata": {},
   "source": [
    "# rename tiffs in format YYYY_MM_DD_hhmmss"
   ]
  },
  {
   "cell_type": "code",
   "execution_count": null,
   "metadata": {},
   "outputs": [],
   "source": [
    "def rename_tiff_files(main_folder):\n",
    "    # Loop through all files in the main folder\n",
    "    for filename in os.listdir(main_folder):\n",
    "        file_path = os.path.join(main_folder, filename)\n",
    "\n",
    "        # Check if the file is a .tiff file\n",
    "        if filename.endswith('.tiff'):\n",
    "            # Use regular expression to extract the date and time (the relevant part of the filename)\n",
    "            match = re.search(r'(\\d{8})t(\\d{6})', filename)\n",
    "            if match:\n",
    "                date = match.group(1)  # Date part (YYYYMMDD)\n",
    "                time = match.group(2)  # Time part (HHMMSS)\n",
    "\n",
    "                # Convert date and time to the desired format (YYYY_MM_DD_HHMMSS)\n",
    "                new_filename = f\"{date[:4]}_{date[4:6]}_{date[6:8]}_{time}\"\n",
    "\n",
    "                # Create the new file path with the new filename\n",
    "                new_file_path = os.path.join(main_folder, f\"{new_filename}.tiff\")\n",
    "\n",
    "                # Rename the file\n",
    "                os.rename(file_path, new_file_path)\n",
    "                print(f\"Renamed '{filename}' to '{new_filename}.tiff'\")\n",
    "\n",
    "if __name__ == \"__main__\":\n",
    "    main_folder = fr\"C:\\Users\\{user_folder}\\.1\\--Data\\s1\\pkf_new\"   # Update with your main folder path\n",
    "    rename_tiff_files(main_folder)\n"
   ]
  },
  {
   "cell_type": "markdown",
   "metadata": {},
   "source": [
    "# Organize tiffs by month subfolders (unused)"
   ]
  },
  {
   "cell_type": "code",
   "execution_count": null,
   "metadata": {},
   "outputs": [],
   "source": [
    "# ## Organize tiffs by month subfolders (unused)\n",
    "\n",
    "# import shutil\n",
    "\n",
    "# folder_path = rf\"C:\\Users\\{user_folder}\\.1\\--Data\\s1\\north_sea\\rune\"\n",
    "\n",
    "# # Iterate through the files in the specified folder\n",
    "# for file_name in os.listdir(folder_path):\n",
    "#     # Check if the file is a .tiff file\n",
    "#     if file_name.endswith('.tiff'):\n",
    "#         # Extract the month from the filename (format: YYYY_MM_DD_hhmmss.tiff)\n",
    "#         month = file_name.split('_')[1]  # MM is the second element\n",
    "        \n",
    "#         # Create the month subfolder if it doesn't exist\n",
    "#         month_folder = os.path.join(folder_path, month)\n",
    "#         if not os.path.exists(month_folder):\n",
    "#             os.makedirs(month_folder)\n",
    "        \n",
    "#         # Define the source and destination file paths\n",
    "#         source_file = os.path.join(folder_path, file_name)\n",
    "#         destination_file = os.path.join(month_folder, file_name)\n",
    "        \n",
    "#         # Move the file to the corresponding month subfolder\n",
    "#         shutil.move(source_file, destination_file)\n",
    "#         print(f\"Moved: {source_file} to {destination_file}\")"
   ]
  },
  {
   "cell_type": "markdown",
   "metadata": {},
   "source": [
    "# Delete empty folders"
   ]
  },
  {
   "cell_type": "code",
   "execution_count": null,
   "metadata": {},
   "outputs": [],
   "source": [
    "# Function to delete all empty folders in a folder(folder1)\n",
    "def delete_empty_folders(folder1):\n",
    "    # Iterate through the folder structure\n",
    "    for root, dirs, files in os.walk(folder1, topdown=False):\n",
    "        for dir_name in dirs:\n",
    "            dir_path = os.path.join(root, dir_name)\n",
    "            # Check if the folder is empty\n",
    "            if not os.listdir(dir_path):\n",
    "                print(f\"Deleting empty folder: {dir_path}\")\n",
    "                os.rmdir(dir_path)  # Delete it\n",
    "\n",
    "# Run the script\n",
    "delete_empty_folders(root_folder)\n"
   ]
  },
  {
   "cell_type": "markdown",
   "metadata": {},
   "source": [
    "# Delete extra images with no polygons"
   ]
  },
  {
   "cell_type": "code",
   "execution_count": null,
   "metadata": {},
   "outputs": [],
   "source": [
    "import os\n",
    "import shutil\n",
    "# Define the paths for folder A and B\n",
    "shp_folder = rf\"C:\\Users\\{user_folder}\\.1\\--Data\\labeled_slick_polygons\\s1_pkf_shp\" # contains shapefiles folders\n",
    "tiff_folder = fr\"C:\\Users\\{user_folder}\\.1\\--Data\\s1\\pkf_new\" # contains tiff files \n",
    "\n",
    "# Get the list of folders in folder A\n",
    "tiff_list = set(os.listdir(tiff_folder))\n",
    "\n",
    "for shp in os.listdir(shp_folder):\n",
    "    if shp not in tiff_list:\n",
    "        print(f'missing tif {shp}')\n",
    "    # else:\n",
    "    #     print(f'{shp} is in pkf_new')\n",
    "\n"
   ]
  },
  {
   "cell_type": "code",
   "execution_count": null,
   "metadata": {},
   "outputs": [],
   "source": [
    "import os\n",
    "import shutil\n",
    "# Define the paths for folder A and B\n",
    "shp_folder = rf\"C:\\Users\\{user_folder}\\.1\\--Data\\labeled_slick_polygons\\s1_pkf_shp\" # contains shapefiles folders\n",
    "tiff_folder = rf\"C:\\Users\\{user_folder}\\.1\\--Data\\s1\\pkf_new\" # contains tiff files \n",
    "\n",
    "# Get the list of folders in folder A\n",
    "shp_list = set(os.listdir(shp_folder))\n",
    "\n",
    "# Iterate through the files in folder B\n",
    "for tif_name in os.listdir(tiff_folder):\n",
    "    tif_path = os.path.join(tiff_folder, tif_name)\n",
    "    # print(tif_path)\n",
    "    # Check if a folder with the same name exists in folder A\n",
    "    if tif_name not in shp_list:\n",
    "        # If no corresponding folder in folder A, delete the file in folder B\n",
    "        os.remove(tif_path)\n",
    "        print(f\"Deleted {tif_name} as there is no matching shp file.\")\n",
    "    else:\n",
    "        print(f\"Found matching shp for {tif_name}.\")\n"
   ]
  },
  {
   "cell_type": "markdown",
   "metadata": {},
   "source": [
    "# _name format fix"
   ]
  },
  {
   "cell_type": "markdown",
   "metadata": {},
   "source": [
    "remove _"
   ]
  },
  {
   "cell_type": "code",
   "execution_count": null,
   "metadata": {},
   "outputs": [],
   "source": [
    "import os\n",
    "os.getcwd()"
   ]
  },
  {
   "cell_type": "code",
   "execution_count": null,
   "metadata": {},
   "outputs": [],
   "source": [
    "root_folder = rf\"C:\\Users\\{user_folder}\\.1\\--Data\\s1\\ns2019_reproj_25\"\n",
    "\n",
    "# Loop through the files and rename those that start with '_'\n",
    "for old_name in os.listdir(root_folder):\n",
    "    if old_name.startswith('_'):\n",
    "        # Create the new file name by removing the leading '_'\n",
    "        new_name = old_name[1:]\n",
    "        \n",
    "        # Full path for both old and new file names\n",
    "        old_path = os.path.join(root_folder, old_name)\n",
    "        new_path = os.path.join(root_folder, new_name)\n",
    "        \n",
    "        # Rename the file\n",
    "        os.rename(old_path, new_path)\n",
    "        print(f'Renamed: {old_name} -> {new_name}')"
   ]
  },
  {
   "cell_type": "markdown",
   "metadata": {},
   "source": [
    "# varia section"
   ]
  },
  {
   "cell_type": "code",
   "execution_count": null,
   "metadata": {},
   "outputs": [],
   "source": [
    "import geopandas as gpd\n",
    "gdf = gpd.read_file(rf\"c:\\Users\\{user_folder}\\.1\\--Data\\labeled_slick_polygons\\s1ewhh_barents.geojson\")\n",
    "\n",
    "gdf.head()"
   ]
  },
  {
   "cell_type": "code",
   "execution_count": null,
   "metadata": {},
   "outputs": [],
   "source": [
    "gdf = gdf.drop(columns={'OBJECTID','OBJECTID_1','Shape_Length','Shape_Area'},errors='ignore')\n",
    "gdf"
   ]
  },
  {
   "cell_type": "code",
   "execution_count": null,
   "metadata": {},
   "outputs": [],
   "source": [
    "gdf['date'].nunique()"
   ]
  },
  {
   "cell_type": "markdown",
   "metadata": {},
   "source": [
    "pkf: 81 in 70"
   ]
  },
  {
   "cell_type": "markdown",
   "metadata": {},
   "source": [
    "barents: 284 in 90"
   ]
  },
  {
   "cell_type": "markdown",
   "metadata": {},
   "source": [
    "ns: 1138 slicks in 361 images"
   ]
  },
  {
   "cell_type": "markdown",
   "metadata": {},
   "source": [
    "rune: 585 in 102 images "
   ]
  },
  {
   "cell_type": "markdown",
   "metadata": {},
   "source": [
    "total: "
   ]
  }
 ],
 "metadata": {
  "kernelspec": {
   "display_name": "geo-env",
   "language": "python",
   "name": "python3"
  },
  "language_info": {
   "codemirror_mode": {
    "name": "ipython",
    "version": 3
   },
   "file_extension": ".py",
   "mimetype": "text/x-python",
   "name": "python",
   "nbconvert_exporter": "python",
   "pygments_lexer": "ipython3",
   "version": "3.9.21"
  }
 },
 "nbformat": 4,
 "nbformat_minor": 2
}
