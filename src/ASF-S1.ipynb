{
 "cells": [
  {
   "cell_type": "code",
   "execution_count": 2,
   "metadata": {},
   "outputs": [],
   "source": [
    "import numpy as np \n",
    "import pandas as pd\n",
    "import geopandas as gpd"
   ]
  },
  {
   "cell_type": "code",
   "execution_count": null,
   "metadata": {},
   "outputs": [],
   "source": [
    "import os\n",
    "os.getcwd()"
   ]
  },
  {
   "cell_type": "code",
   "execution_count": null,
   "metadata": {},
   "outputs": [],
   "source": [
    "user_folder = <path to user_folder>"
   ]
  },
  {
   "cell_type": "code",
   "execution_count": null,
   "metadata": {},
   "outputs": [
    {
     "data": {
      "text/html": [
       "<div>\n",
       "<style scoped>\n",
       "    .dataframe tbody tr th:only-of-type {\n",
       "        vertical-align: middle;\n",
       "    }\n",
       "\n",
       "    .dataframe tbody tr th {\n",
       "        vertical-align: top;\n",
       "    }\n",
       "\n",
       "    .dataframe thead th {\n",
       "        text-align: right;\n",
       "    }\n",
       "</style>\n",
       "<table border=\"1\" class=\"dataframe\">\n",
       "  <thead>\n",
       "    <tr style=\"text-align: right;\">\n",
       "      <th></th>\n",
       "      <th>image_id</th>\n",
       "      <th>date</th>\n",
       "      <th>layer</th>\n",
       "      <th>geometry</th>\n",
       "    </tr>\n",
       "  </thead>\n",
       "  <tbody>\n",
       "    <tr>\n",
       "      <th>0</th>\n",
       "      <td>0</td>\n",
       "      <td>2017-05-05 17:17:04</td>\n",
       "      <td>20170505t171704</td>\n",
       "      <td>MULTIPOLYGON (((6.16768 57.08449, 6.16929 57.0...</td>\n",
       "    </tr>\n",
       "    <tr>\n",
       "      <th>1</th>\n",
       "      <td>0</td>\n",
       "      <td>2017-05-05 17:17:04</td>\n",
       "      <td>20170505t171704</td>\n",
       "      <td>MULTIPOLYGON (((6.17438 57.076, 6.17687 57.074...</td>\n",
       "    </tr>\n",
       "    <tr>\n",
       "      <th>2</th>\n",
       "      <td>0</td>\n",
       "      <td>2017-05-05 17:17:04</td>\n",
       "      <td>20170505t171704</td>\n",
       "      <td>MULTIPOLYGON (((6.20534 57.09317, 6.20732 57.0...</td>\n",
       "    </tr>\n",
       "    <tr>\n",
       "      <th>3</th>\n",
       "      <td>1</td>\n",
       "      <td>2017-05-06 05:56:49</td>\n",
       "      <td>20170506t055649</td>\n",
       "      <td>MULTIPOLYGON (((3.4011 56.38135, 3.39955 56.38...</td>\n",
       "    </tr>\n",
       "    <tr>\n",
       "      <th>4</th>\n",
       "      <td>2</td>\n",
       "      <td>2017-05-07 05:47:47</td>\n",
       "      <td>20170507t054747</td>\n",
       "      <td>MULTIPOLYGON (((6.16631 57.08426, 6.16849 57.0...</td>\n",
       "    </tr>\n",
       "    <tr>\n",
       "      <th>...</th>\n",
       "      <td>...</td>\n",
       "      <td>...</td>\n",
       "      <td>...</td>\n",
       "      <td>...</td>\n",
       "    </tr>\n",
       "    <tr>\n",
       "      <th>455</th>\n",
       "      <td>112</td>\n",
       "      <td>2021-06-25 06:00:04</td>\n",
       "      <td>20210625t0604</td>\n",
       "      <td>MULTIPOLYGON (((3.94577 57.03774, 3.94429 57.0...</td>\n",
       "    </tr>\n",
       "    <tr>\n",
       "      <th>456</th>\n",
       "      <td>113</td>\n",
       "      <td>2021-06-25 06:04:42</td>\n",
       "      <td>20210625t060442</td>\n",
       "      <td>MULTIPOLYGON (((3.70773 56.82461, 3.70709 56.8...</td>\n",
       "    </tr>\n",
       "    <tr>\n",
       "      <th>457</th>\n",
       "      <td>113</td>\n",
       "      <td>2021-06-25 06:04:42</td>\n",
       "      <td>20210625t060442</td>\n",
       "      <td>MULTIPOLYGON (((4.30786 56.67483, 4.30703 56.6...</td>\n",
       "    </tr>\n",
       "    <tr>\n",
       "      <th>458</th>\n",
       "      <td>113</td>\n",
       "      <td>2021-06-25 06:04:42</td>\n",
       "      <td>20210625t060442</td>\n",
       "      <td>MULTIPOLYGON (((4.14688 56.68461, 4.14582 56.6...</td>\n",
       "    </tr>\n",
       "    <tr>\n",
       "      <th>459</th>\n",
       "      <td>114</td>\n",
       "      <td>2021-07-01 06:00:05</td>\n",
       "      <td>20210701t0605</td>\n",
       "      <td>MULTIPOLYGON (((3.94377 57.03823, 3.94516 57.0...</td>\n",
       "    </tr>\n",
       "  </tbody>\n",
       "</table>\n",
       "<p>460 rows × 4 columns</p>\n",
       "</div>"
      ],
      "text/plain": [
       "     image_id                date            layer  \\\n",
       "0           0 2017-05-05 17:17:04  20170505t171704   \n",
       "1           0 2017-05-05 17:17:04  20170505t171704   \n",
       "2           0 2017-05-05 17:17:04  20170505t171704   \n",
       "3           1 2017-05-06 05:56:49  20170506t055649   \n",
       "4           2 2017-05-07 05:47:47  20170507t054747   \n",
       "..        ...                 ...              ...   \n",
       "455       112 2021-06-25 06:00:04    20210625t0604   \n",
       "456       113 2021-06-25 06:04:42  20210625t060442   \n",
       "457       113 2021-06-25 06:04:42  20210625t060442   \n",
       "458       113 2021-06-25 06:04:42  20210625t060442   \n",
       "459       114 2021-07-01 06:00:05    20210701t0605   \n",
       "\n",
       "                                              geometry  \n",
       "0    MULTIPOLYGON (((6.16768 57.08449, 6.16929 57.0...  \n",
       "1    MULTIPOLYGON (((6.17438 57.076, 6.17687 57.074...  \n",
       "2    MULTIPOLYGON (((6.20534 57.09317, 6.20732 57.0...  \n",
       "3    MULTIPOLYGON (((3.4011 56.38135, 3.39955 56.38...  \n",
       "4    MULTIPOLYGON (((6.16631 57.08426, 6.16849 57.0...  \n",
       "..                                                 ...  \n",
       "455  MULTIPOLYGON (((3.94577 57.03774, 3.94429 57.0...  \n",
       "456  MULTIPOLYGON (((3.70773 56.82461, 3.70709 56.8...  \n",
       "457  MULTIPOLYGON (((4.30786 56.67483, 4.30703 56.6...  \n",
       "458  MULTIPOLYGON (((4.14688 56.68461, 4.14582 56.6...  \n",
       "459  MULTIPOLYGON (((3.94377 57.03823, 3.94516 57.0...  \n",
       "\n",
       "[460 rows x 4 columns]"
      ]
     },
     "execution_count": 12,
     "metadata": {},
     "output_type": "execute_result"
    }
   ],
   "source": [
    "gdf = gpd.read_file(rf'c:\\Users\\{user_folder}\\Documents\\rune_gdf.geojson')\n",
    "gdf"
   ]
  },
  {
   "cell_type": "code",
   "execution_count": null,
   "metadata": {},
   "outputs": [],
   "source": [
    "gdf_unique = gpd.read_file(rf'c:\\Users\\{user_folder}\\Documents\\rune_gdf_unique-image.geojson')"
   ]
  },
  {
   "cell_type": "code",
   "execution_count": 4,
   "metadata": {},
   "outputs": [
    {
     "data": {
      "text/plain": [
       "<Geographic 2D CRS: EPSG:4326>\n",
       "Name: WGS 84\n",
       "Axis Info [ellipsoidal]:\n",
       "- Lat[north]: Geodetic latitude (degree)\n",
       "- Lon[east]: Geodetic longitude (degree)\n",
       "Area of Use:\n",
       "- name: World.\n",
       "- bounds: (-180.0, -90.0, 180.0, 90.0)\n",
       "Datum: World Geodetic System 1984 ensemble\n",
       "- Ellipsoid: WGS 84\n",
       "- Prime Meridian: Greenwich"
      ]
     },
     "execution_count": 4,
     "metadata": {},
     "output_type": "execute_result"
    }
   ],
   "source": [
    "gdf.crs"
   ]
  },
  {
   "cell_type": "markdown",
   "metadata": {},
   "source": [
    "# ASF Sentinel-1 search and Download"
   ]
  },
  {
   "cell_type": "code",
   "execution_count": null,
   "metadata": {},
   "outputs": [],
   "source": [
    "img_path = rf'C:\\Users\\{user_folder}\\--Projects\\Local\\ArcPy\\s1\\32\\measurement\\s1b-iw-grd-vv-20170704t060417-20170704t060442-006334-00b22a-001.tiff'"
   ]
  },
  {
   "cell_type": "code",
   "execution_count": 1,
   "metadata": {},
   "outputs": [],
   "source": [
    "import asf_search as asf"
   ]
  },
  {
   "cell_type": "code",
   "execution_count": 2,
   "metadata": {},
   "outputs": [],
   "source": [
    "username = input('Enter ASF username:')\n",
    "\n",
    "import getpass\n",
    "\n",
    "password = getpass.getpass(prompt='Enter ASF password: ')\n",
    "session = asf.ASFSession().auth_with_creds(username, password)"
   ]
  },
  {
   "cell_type": "code",
   "execution_count": 3,
   "metadata": {},
   "outputs": [],
   "source": [
    "import tkinter as tk\n",
    "from tkinter import filedialog\n",
    "\n",
    "# Initialize the tkinter root window (it won't be shown)\n",
    "root = tk.Tk()\n",
    "root.withdraw()  # Hides the root window\n",
    "\n",
    "# Open a directory selection dialog\n",
    "root_path = filedialog.askdirectory(title=\"Select a root path\")"
   ]
  },
  {
   "cell_type": "code",
   "execution_count": 4,
   "metadata": {},
   "outputs": [
    {
     "name": "stdout",
     "output_type": "stream",
     "text": [
      "2017-02-03\n"
     ]
    }
   ],
   "source": [
    "from datetime import date \n",
    "print(date(2017,2,3))"
   ]
  },
  {
   "cell_type": "code",
   "execution_count": 6,
   "metadata": {},
   "outputs": [],
   "source": [
    "import pandas as pd"
   ]
  },
  {
   "cell_type": "code",
   "execution_count": 27,
   "metadata": {},
   "outputs": [
    {
     "data": {
      "text/plain": [
       "0      MULTIPOLYGON (((6.16768 57.08449, 6.16929 57.0...\n",
       "1      MULTIPOLYGON (((3.4011 56.38135, 3.39955 56.38...\n",
       "2      MULTIPOLYGON (((6.16631 57.08426, 6.16849 57.0...\n",
       "3      MULTIPOLYGON (((5.66545 56.99826, 5.66938 56.9...\n",
       "4      MULTIPOLYGON (((5.66399 56.99815, 5.66768 56.9...\n",
       "                             ...                        \n",
       "110    MULTIPOLYGON (((4.20047 57.68632, 4.2018 57.68...\n",
       "111    MULTIPOLYGON (((3.94316 57.03799, 3.94178 57.0...\n",
       "112    MULTIPOLYGON (((3.94577 57.03774, 3.94429 57.0...\n",
       "113    MULTIPOLYGON (((3.70773 56.82461, 3.70709 56.8...\n",
       "114    MULTIPOLYGON (((3.94377 57.03823, 3.94516 57.0...\n",
       "Name: geometry, Length: 115, dtype: geometry"
      ]
     },
     "execution_count": 27,
     "metadata": {},
     "output_type": "execute_result"
    }
   ],
   "source": [
    "gdf_unique.geometry"
   ]
  },
  {
   "cell_type": "code",
   "execution_count": 29,
   "metadata": {},
   "outputs": [
    {
     "data": {
      "text/plain": [
       "'POINT (6.167679618132044 57.08449365258807)'"
      ]
     },
     "execution_count": 29,
     "metadata": {},
     "output_type": "execute_result"
    }
   ],
   "source": [
    "from shapely.geometry import Point\n",
    "geom = list(gdf_unique.loc[0].geometry.geoms[0].exterior.coords)[0]\n",
    "geom = Point(geom).wkt\n",
    "geom"
   ]
  },
  {
   "cell_type": "code",
   "execution_count": null,
   "metadata": {},
   "outputs": [
    {
     "name": "stdout",
     "output_type": "stream",
     "text": [
      "0\n",
      "{\n",
      "  \"features\": [],\n",
      "  \"type\": \"FeatureCollection\"\n",
      "}\n"
     ]
    }
   ],
   "source": [
    "\n",
    "# Query results from the ASF API\n",
    "results = asf.search(platform=[asf.PLATFORM.SENTINEL1], \n",
    "                    processingLevel=[asf.PRODUCT_TYPE.GRD_HD],\n",
    "                    intersectsWith=geom, \n",
    "                    start = date(2017,2,3),\n",
    "                    # end = row['date'],\n",
    "                    # start = row['date'] - pd.Timedelta(hours=1),\n",
    "                    end = date(2020,2,3) + pd.Timedelta(days=40), # if we want one day more or less,\n",
    "                    polarization='VV', # Keeps only the co-polarization band\n",
    "                    # maxResults=3\n",
    "                    )\n",
    "print(len(results))\n",
    "print(results)"
   ]
  },
  {
   "cell_type": "code",
   "execution_count": null,
   "metadata": {},
   "outputs": [],
   "source": [
    "from shapely.geometry import Point\n",
    "import os \n",
    "\n",
    "for index, row in empty_gdf.iterrows():\n",
    "    n = row[\"image_id\"]\n",
    "        # Define the full path for the download directory\n",
    "    download_dir = os.path.join(root_path, str(n))\n",
    "    \n",
    "    # Ensure the directory exists\n",
    "    os.makedirs(download_dir, exist_ok=True)\n",
    "    \n",
    "    # Access the 'geometry' column from the row\n",
    "        # Access the 'geometry' column\n",
    "    geometry = row['geometry']\n",
    "    print(row['date'])\n",
    "    \n",
    "    # Check if the geometry is a Polygon or MultiPolygon\n",
    "    if geometry.geom_type == 'Polygon':\n",
    "        first_point = geometry.exterior.coords[0]  # Get the first point of the exterior\n",
    "    elif geometry.geom_type == 'MultiPolygon':\n",
    "        # For MultiPolygon, use the first polygon's exterior\n",
    "        first_point = list(geometry.geoms[0].exterior.coords)[0]\n",
    "    else:\n",
    "        raise ValueError(f\"Unsupported geometry type: {geometry.geom_type}\")\n",
    "    \n",
    "    # Convert the first point to a Shapely Point object\n",
    "    geom_wkt = Point(first_point).wkt\n",
    "\n",
    "    # Query results from the ASF API\n",
    "    results = asf.search(platform=[asf.PLATFORM.SENTINEL1], \n",
    "                        processingLevel=[asf.PRODUCT_TYPE.GRD_HD],\n",
    "                        intersectsWith=geom_wkt, \n",
    "                        start = row['date'],\n",
    "                        # end = row['date'],\n",
    "                        # start = row['date'] - pd.Timedelta(hours=1),\n",
    "                        end = row['date'] + pd.Timedelta(hours=20), # if we want one day more or less\n",
    "                        maxResults=3)\n",
    "    print(len(results))\n",
    "    print(results)\n",
    "    results.download(path=rf'{root_path}/{n}', session=session)\n",
    "    print(f'processed {n} over {len(gdf_unique)} images')"
   ]
  },
  {
   "cell_type": "code",
   "execution_count": 386,
   "metadata": {},
   "outputs": [
    {
     "name": "stdout",
     "output_type": "stream",
     "text": [
      "Total number of items in subfolders: 119\n"
     ]
    }
   ],
   "source": [
    "def count_files_in_subfolders(root_folder):\n",
    "    total_files = 0  # Initialize a counter for the total number of files\n",
    "\n",
    "    # Walk through the root folder and its subfolders\n",
    "    for dirpath, dirnames, filenames in os.walk(root_folder):\n",
    "        # Add the number of files in the current directory to the total\n",
    "        total_files += len(filenames)\n",
    "\n",
    "    return total_files\n",
    "\n",
    "# Count the total items in subfolders\n",
    "total_items = count_files_in_subfolders(root_path)\n",
    "print(f\"Total number of items in subfolders: {total_items}\")"
   ]
  },
  {
   "cell_type": "code",
   "execution_count": 382,
   "metadata": {},
   "outputs": [
    {
     "name": "stdout",
     "output_type": "stream",
     "text": [
      "No empty subfolders found.\n"
     ]
    }
   ],
   "source": [
    "import os\n",
    "\n",
    "def find_empty_subfolders(root_folder):\n",
    "    empty_subfolders = []  # List to store names of empty subfolders\n",
    "\n",
    "    # Walk through the root folder and its subfolders\n",
    "    for dirpath, dirnames, filenames in os.walk(root_folder):\n",
    "        # Check if the directory is empty (no files or subfolders)\n",
    "        if not dirnames and not filenames:\n",
    "            folder_name = os.path.basename(dirpath)  # Get only the folder name\n",
    "            empty_subfolders.append(folder_name)  # Add the folder name to the list\n",
    "\n",
    "    return empty_subfolders\n",
    "\n",
    "# Call the function and print the results\n",
    "empty_folders = find_empty_subfolders(root_path)\n",
    "if empty_folders:\n",
    "    print(\"Empty subfolders:\")\n",
    "    for folder in empty_folders:\n",
    "        print(folder)\n",
    "else:\n",
    "    print(\"No empty subfolders found.\")"
   ]
  },
  {
   "cell_type": "code",
   "execution_count": 380,
   "metadata": {},
   "outputs": [
    {
     "data": {
      "text/html": [
       "<div>\n",
       "<style scoped>\n",
       "    .dataframe tbody tr th:only-of-type {\n",
       "        vertical-align: middle;\n",
       "    }\n",
       "\n",
       "    .dataframe tbody tr th {\n",
       "        vertical-align: top;\n",
       "    }\n",
       "\n",
       "    .dataframe thead th {\n",
       "        text-align: right;\n",
       "    }\n",
       "</style>\n",
       "<table border=\"1\" class=\"dataframe\">\n",
       "  <thead>\n",
       "    <tr style=\"text-align: right;\">\n",
       "      <th></th>\n",
       "      <th>image_id</th>\n",
       "      <th>date</th>\n",
       "      <th>layer</th>\n",
       "      <th>geometry</th>\n",
       "    </tr>\n",
       "  </thead>\n",
       "  <tbody>\n",
       "    <tr>\n",
       "      <th>53</th>\n",
       "      <td>53</td>\n",
       "      <td>2020-04-30</td>\n",
       "      <td>slicks_20200430</td>\n",
       "      <td>MULTIPOLYGON (((4.2741 56.64316, 4.27653 56.64...</td>\n",
       "    </tr>\n",
       "    <tr>\n",
       "      <th>56</th>\n",
       "      <td>56</td>\n",
       "      <td>2020-05-02</td>\n",
       "      <td>slicks_20200502</td>\n",
       "      <td>MULTIPOLYGON (((3.81586 56.64153, 3.81871 56.6...</td>\n",
       "    </tr>\n",
       "    <tr>\n",
       "      <th>57</th>\n",
       "      <td>57</td>\n",
       "      <td>2020-05-05</td>\n",
       "      <td>slicks_20200505</td>\n",
       "      <td>MULTIPOLYGON (((3.81898 56.64303, 3.8183 56.64...</td>\n",
       "    </tr>\n",
       "    <tr>\n",
       "      <th>58</th>\n",
       "      <td>58</td>\n",
       "      <td>2020-05-06</td>\n",
       "      <td>slicks_20200506</td>\n",
       "      <td>MULTIPOLYGON (((3.8199 56.64279, 3.81947 56.64...</td>\n",
       "    </tr>\n",
       "    <tr>\n",
       "      <th>60</th>\n",
       "      <td>60</td>\n",
       "      <td>2020-05-07</td>\n",
       "      <td>slicks_20200507</td>\n",
       "      <td>MULTIPOLYGON (((3.81913 56.64279, 3.82044 56.6...</td>\n",
       "    </tr>\n",
       "    <tr>\n",
       "      <th>61</th>\n",
       "      <td>61</td>\n",
       "      <td>2020-05-08</td>\n",
       "      <td>slicks_20200508</td>\n",
       "      <td>MULTIPOLYGON (((4.42516 56.65122, 4.42381 56.6...</td>\n",
       "    </tr>\n",
       "    <tr>\n",
       "      <th>63</th>\n",
       "      <td>63</td>\n",
       "      <td>2020-05-11</td>\n",
       "      <td>slicks_20200511</td>\n",
       "      <td>MULTIPOLYGON (((4.24214 56.59172, 4.24265 56.5...</td>\n",
       "    </tr>\n",
       "    <tr>\n",
       "      <th>64</th>\n",
       "      <td>64</td>\n",
       "      <td>2020-05-12</td>\n",
       "      <td>slicks_20200512</td>\n",
       "      <td>MULTIPOLYGON (((4.23636 56.5944, 4.23915 56.59...</td>\n",
       "    </tr>\n",
       "    <tr>\n",
       "      <th>67</th>\n",
       "      <td>67</td>\n",
       "      <td>2020-05-14</td>\n",
       "      <td>slicks_20200514</td>\n",
       "      <td>MULTIPOLYGON (((4.23643 56.59348, 4.23857 56.5...</td>\n",
       "    </tr>\n",
       "    <tr>\n",
       "      <th>68</th>\n",
       "      <td>68</td>\n",
       "      <td>2020-05-17</td>\n",
       "      <td>slicks_20200517</td>\n",
       "      <td>MULTIPOLYGON (((4.23696 56.59211, 4.23596 56.5...</td>\n",
       "    </tr>\n",
       "    <tr>\n",
       "      <th>69</th>\n",
       "      <td>69</td>\n",
       "      <td>2020-05-18</td>\n",
       "      <td>slicks_20200518</td>\n",
       "      <td>MULTIPOLYGON (((4.14426 56.64791, 4.1447 56.64...</td>\n",
       "    </tr>\n",
       "    <tr>\n",
       "      <th>70</th>\n",
       "      <td>70</td>\n",
       "      <td>2020-05-19</td>\n",
       "      <td>slicks_20200519</td>\n",
       "      <td>MULTIPOLYGON (((4.14252 56.64763, 4.14189 56.6...</td>\n",
       "    </tr>\n",
       "    <tr>\n",
       "      <th>72</th>\n",
       "      <td>72</td>\n",
       "      <td>2020-05-24</td>\n",
       "      <td>slicks_20200524</td>\n",
       "      <td>MULTIPOLYGON (((4.44084 56.70376, 4.44351 56.7...</td>\n",
       "    </tr>\n",
       "    <tr>\n",
       "      <th>76</th>\n",
       "      <td>76</td>\n",
       "      <td>2020-05-26</td>\n",
       "      <td>slicks_20200526</td>\n",
       "      <td>MULTIPOLYGON (((4.43908 56.70191, 4.43757 56.7...</td>\n",
       "    </tr>\n",
       "    <tr>\n",
       "      <th>80</th>\n",
       "      <td>80</td>\n",
       "      <td>2020-05-30</td>\n",
       "      <td>slicks_20200530</td>\n",
       "      <td>MULTIPOLYGON (((4.4396 56.70211, 4.43957 56.70...</td>\n",
       "    </tr>\n",
       "    <tr>\n",
       "      <th>82</th>\n",
       "      <td>82</td>\n",
       "      <td>2020-05-31</td>\n",
       "      <td>slicks_20200531</td>\n",
       "      <td>MULTIPOLYGON (((4.43895 56.70127, 4.43925 56.7...</td>\n",
       "    </tr>\n",
       "  </tbody>\n",
       "</table>\n",
       "</div>"
      ],
      "text/plain": [
       "    image_id       date            layer  \\\n",
       "53        53 2020-04-30  slicks_20200430   \n",
       "56        56 2020-05-02  slicks_20200502   \n",
       "57        57 2020-05-05  slicks_20200505   \n",
       "58        58 2020-05-06  slicks_20200506   \n",
       "60        60 2020-05-07  slicks_20200507   \n",
       "61        61 2020-05-08  slicks_20200508   \n",
       "63        63 2020-05-11  slicks_20200511   \n",
       "64        64 2020-05-12  slicks_20200512   \n",
       "67        67 2020-05-14  slicks_20200514   \n",
       "68        68 2020-05-17  slicks_20200517   \n",
       "69        69 2020-05-18  slicks_20200518   \n",
       "70        70 2020-05-19  slicks_20200519   \n",
       "72        72 2020-05-24  slicks_20200524   \n",
       "76        76 2020-05-26  slicks_20200526   \n",
       "80        80 2020-05-30  slicks_20200530   \n",
       "82        82 2020-05-31  slicks_20200531   \n",
       "\n",
       "                                             geometry  \n",
       "53  MULTIPOLYGON (((4.2741 56.64316, 4.27653 56.64...  \n",
       "56  MULTIPOLYGON (((3.81586 56.64153, 3.81871 56.6...  \n",
       "57  MULTIPOLYGON (((3.81898 56.64303, 3.8183 56.64...  \n",
       "58  MULTIPOLYGON (((3.8199 56.64279, 3.81947 56.64...  \n",
       "60  MULTIPOLYGON (((3.81913 56.64279, 3.82044 56.6...  \n",
       "61  MULTIPOLYGON (((4.42516 56.65122, 4.42381 56.6...  \n",
       "63  MULTIPOLYGON (((4.24214 56.59172, 4.24265 56.5...  \n",
       "64  MULTIPOLYGON (((4.23636 56.5944, 4.23915 56.59...  \n",
       "67  MULTIPOLYGON (((4.23643 56.59348, 4.23857 56.5...  \n",
       "68  MULTIPOLYGON (((4.23696 56.59211, 4.23596 56.5...  \n",
       "69  MULTIPOLYGON (((4.14426 56.64791, 4.1447 56.64...  \n",
       "70  MULTIPOLYGON (((4.14252 56.64763, 4.14189 56.6...  \n",
       "72  MULTIPOLYGON (((4.44084 56.70376, 4.44351 56.7...  \n",
       "76  MULTIPOLYGON (((4.43908 56.70191, 4.43757 56.7...  \n",
       "80  MULTIPOLYGON (((4.4396 56.70211, 4.43957 56.70...  \n",
       "82  MULTIPOLYGON (((4.43895 56.70127, 4.43925 56.7...  "
      ]
     },
     "execution_count": 380,
     "metadata": {},
     "output_type": "execute_result"
    }
   ],
   "source": [
    "# Ensure the empty_folders list contains integers\n",
    "empty_folders = [int(folder) for folder in empty_folders]\n",
    "\n",
    "# Filter rows based on the empty_folders list\n",
    "empty_gdf = gdf_unique.loc[gdf_unique.index.isin(empty_folders)]\n",
    "empty_gdf"
   ]
  },
  {
   "cell_type": "code",
   "execution_count": null,
   "metadata": {},
   "outputs": [],
   "source": [
    "import os\n",
    "import zipfile\n",
    "\n",
    "# Function to unzip files in tier 1 subfolders\n",
    "def unzip_files_in_directory(root_dir):\n",
    "    # Iterate through only the first level of subdirectories\n",
    "    for foldername in os.listdir(root_dir):\n",
    "        folder_path = os.path.join(root_dir, foldername)\n",
    "        \n",
    "        if os.path.isdir(folder_path):  # Check if it's a subfolder\n",
    "            # Iterate through all files in this folder\n",
    "            for filename in os.listdir(folder_path):\n",
    "                if filename.endswith('.zip'):  # Check if the file is a .zip file\n",
    "                    zip_path = os.path.join(folder_path, filename)\n",
    "                    \n",
    "                    # Extract the .zip file to the same directory\n",
    "                    try:\n",
    "                        with zipfile.ZipFile(zip_path, 'r') as zip_ref:\n",
    "                            zip_ref.extractall(folder_path)  # Extract to the same folder\n",
    "                        print(f\"Successfully unzipped: {zip_path} to {folder_path}\")\n",
    "                        \n",
    "                        # # Delete the .zip file after extraction\n",
    "                        # os.remove(zip_path)\n",
    "                        # print(f\"Deleted zip file: {zip_path}\")\n",
    "                    except zipfile.BadZipFile:\n",
    "                        print(f\"Failed to unzip: {zip_path} (Bad Zip File)\")\n",
    "\n",
    "# Call the function to unzip files\n",
    "unzip_files_in_directory(root_path)\n"
   ]
  }
 ],
 "metadata": {
  "kernelspec": {
   "display_name": "base",
   "language": "python",
   "name": "python3"
  },
  "language_info": {
   "codemirror_mode": {
    "name": "ipython",
    "version": 3
   },
   "file_extension": ".py",
   "mimetype": "text/x-python",
   "name": "python",
   "nbconvert_exporter": "python",
   "pygments_lexer": "ipython3",
   "version": "3.12.8"
  }
 },
 "nbformat": 4,
 "nbformat_minor": 2
}
